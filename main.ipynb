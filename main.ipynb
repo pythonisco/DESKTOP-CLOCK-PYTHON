{
 "cells": [
  {
   "cell_type": "markdown",
   "metadata": {},
   "source": [
    "# DESKTOP CLOCK WIDGET USING PYTHON'S TKINTER LIBRARY"
   ]
  },
  {
   "cell_type": "markdown",
   "metadata": {},
   "source": [
    "<font size=3><b><u>AIM:</u></b> To make a desktop clock using python's tkinter and time library</font>"
   ]
  },
  {
   "cell_type": "markdown",
   "metadata": {},
   "source": [
    "<font size=3>\n",
    "<b><u>SOFTWARE USED:</b></u><br>\n",
    "<ol>\n",
    "<li>Editor: Visual Studio Code (<a>https://code.visualstudio.com/download)</a></li><br>\n",
    "<li>Interpreter: Python 3.7.9 (<a>https://www.python.org/downloads/release/python-379/</a>)</li>\n",
    "</ol>\n",
    "</font>"
   ]
  },
  {
   "cell_type": "markdown",
   "metadata": {},
   "source": [
    "<font size=3>\n",
    "<b><u>PACKAGES USED:</b></u>\n",
    "<ol>\n",
    "<li>GUI: Tkinter</li>\n",
    "<li>TIME: time</li>\n",
    "</ol>\n",
    "</font>"
   ]
  },
  {
   "cell_type": "markdown",
   "metadata": {},
   "source": [
    "<font size =3 ><b><u>CODE:</u></b>\n",
    "<ol>\n",
    "<li>First import everything from tkinter, tkinter themed widget and finally import strftime from the time module.</li><br>\n",
    "<li>In the second cell, define the gui features. First set the geometry to 500x600 and set the window position to 700 units from the top. This causes our window to come to the bottom position. Now set the overrideredirect to true (This means we will be getting a borderless window). Now to set the transparency, you need to use the widgets attributes otherwise the widgets too will become transparent when you do it for the window. Now configure the background of the application to black</li><br>\n",
    "<li>In the third cell, add a function and call it clock. Declare a variable to store the current time in hours, minutes and seconds</li><br>\n",
    "<li>Create another cell and add a label with the font equal to times new roman (font is your choice) and set the size to 90 in the tuple. Set the background to black and the foreground to white</li><br>\n",
    "<li>Get back to the clock function and configure the text to be equal to the variable which stores the time in the function. Finally call the after function to ensure the time changes every minute.</li><br>\n",
    "<li>Go to the last cell and pack the label. Call the clock function and run the app by calling app.mainloop()</li>"
   ]
  },
  {
   "cell_type": "markdown",
   "metadata": {},
   "source": [
    "<font size=3>Cell 1:</font>"
   ]
  },
  {
   "cell_type": "code",
   "execution_count": 1,
   "metadata": {},
   "outputs": [],
   "source": [
    "# making imports\n",
    "from tkinter import *\n",
    "from tkinter.ttk import *\n",
    "from time import strftime"
   ]
  },
  {
   "cell_type": "markdown",
   "metadata": {},
   "source": [
    "<font size=3>Cell 2:</font>"
   ]
  },
  {
   "cell_type": "code",
   "execution_count": 2,
   "metadata": {},
   "outputs": [],
   "source": [
    "# configuring the app\n",
    "\n",
    "app = Tk()\n",
    "app.geometry(\"600x500+0+650\")\n",
    "app.overrideredirect(True)\n",
    "app.wm_attributes('-transparentcolor','black')\n",
    "app.config(bg=\"black\")"
   ]
  },
  {
   "cell_type": "markdown",
   "metadata": {},
   "source": [
    "<font size=3>Cell 3:</font>"
   ]
  },
  {
   "cell_type": "code",
   "execution_count": 3,
   "metadata": {},
   "outputs": [],
   "source": [
    "# making a function\n",
    "def clock():\n",
    "    st = strftime('%H:%M:%S')\n",
    "    label.config(text = st)\n",
    "    label.after(1000, clock)"
   ]
  },
  {
   "cell_type": "markdown",
   "metadata": {},
   "source": [
    "<font size=3>Cell 4:</font>"
   ]
  },
  {
   "cell_type": "code",
   "execution_count": null,
   "metadata": {},
   "outputs": [],
   "source": [
    "# I have styled these labels according to my liking, you may do the same to yours as well\n",
    "label = Label(app, font = ('times new roman', 90),\n",
    "            background = 'black',\n",
    "            foreground = 'white')\n",
    "\n",
    "label.pack()\n",
    "clock()\n",
    "app.mainloop()"
   ]
  },
  {
   "cell_type": "markdown",
   "metadata": {},
   "source": [
    "<font size=3><b>OUTPUT:</b>\n",
    "<ol>\n",
    "<li>A digital clock would have appeared below just above your taskbar (If you are on windows). Refer to Output.PNG for additional info.</li><br>\n",
    "<li>The clock will have a hour set, minute set and second set. You may edit it as you like. You may also edit the gui and position as to your liking</li>\n",
    "</ol>\n",
    "</font>"
   ]
  },
  {
   "cell_type": "markdown",
   "metadata": {},
   "source": [
    "<font size=3><b><i><span style=\"color:red\">~Designed by Pythonisco</i></b></font>"
   ]
  }
 ],
 "metadata": {
  "interpreter": {
   "hash": "da61c3b2251c100ba2f5a6aa6260e49584c3c2d32ac64129f8052369b8e973e2"
  },
  "kernelspec": {
   "display_name": "Python 3.7.9 64-bit",
   "name": "python3"
  },
  "language_info": {
   "codemirror_mode": {
    "name": "ipython",
    "version": 3
   },
   "file_extension": ".py",
   "mimetype": "text/x-python",
   "name": "python",
   "nbconvert_exporter": "python",
   "pygments_lexer": "ipython3",
   "version": "3.7.9"
  },
  "orig_nbformat": 4
 },
 "nbformat": 4,
 "nbformat_minor": 2
}
